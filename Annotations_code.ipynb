{
  "nbformat": 4,
  "nbformat_minor": 0,
  "metadata": {
    "colab": {
      "provenance": [],
      "authorship_tag": "ABX9TyPF344F0kZ/BrgwmPTs2XDR",
      "include_colab_link": true
    },
    "kernelspec": {
      "name": "python3",
      "display_name": "Python 3"
    },
    "language_info": {
      "name": "python"
    }
  },
  "cells": [
    {
      "cell_type": "markdown",
      "metadata": {
        "id": "view-in-github",
        "colab_type": "text"
      },
      "source": [
        "<a href=\"https://colab.research.google.com/github/khan-habibullah/ml1/blob/master/Annotations_code.ipynb\" target=\"_parent\"><img src=\"https://colab.research.google.com/assets/colab-badge.svg\" alt=\"Open In Colab\"/></a>"
      ]
    },
    {
      "cell_type": "code",
      "execution_count": null,
      "metadata": {
        "id": "iBmL23s9jdfM"
      },
      "outputs": [],
      "source": [
        "import numpy as np\n",
        "import pandas as pd\n",
        "# from keras.preprocessing import image\n",
        "from tensorflow.keras.applications.resnet50 import ResNet50, preprocess_input\n",
        "from keras.utils import load_img, img_to_array\n",
        "\n"
      ]
    },
    {
      "cell_type": "code",
      "source": [
        "# Load the ResNet50 model\n",
        "model = ResNet50(weights='imagenet', include_top=False, pooling='avg')\n",
        "\n"
      ],
      "metadata": {
        "id": "3pMq402BtECl"
      },
      "execution_count": null,
      "outputs": []
    },
    {
      "cell_type": "code",
      "source": [
        "# Define the function to extract features using ResNet50\n",
        "def extract_features(img_path):\n",
        "    img = load_img(img_path, target_size=(224, 224))\n",
        "    x = img_to_array(img)\n",
        "    x = np.expand_dims(x, axis=0)\n",
        "    x = preprocess_input(x)\n",
        "    features = model.predict(x)\n",
        "    return features\n",
        "\n"
      ],
      "metadata": {
        "id": "gzMUhAp67Cw9"
      },
      "execution_count": null,
      "outputs": []
    },
    {
      "cell_type": "code",
      "source": [
        "# Define the list of image paths\n",
        "image_paths = ['/content/Capture3.PNG', '/content/Capture7.PNG', '/content/task2.PNG']\n",
        "\n"
      ],
      "metadata": {
        "id": "ev7iaJ_N7Guy"
      },
      "execution_count": null,
      "outputs": []
    },
    {
      "cell_type": "code",
      "source": [
        "\n",
        "features_list = []\n",
        "for img_path in image_paths:\n",
        "    features = extract_features(img_path)\n",
        "    features_list.append(features)\n",
        "features_arr = np.concatenate(features_list, axis=0)\n",
        "df = pd.DataFrame(features_arr)\n",
        "df.to_csv('resnet50_features.csv', index=False, header=False)"
      ],
      "metadata": {
        "colab": {
          "base_uri": "https://localhost:8080/"
        },
        "id": "3nEWL4uD8cc-",
        "outputId": "0beaef88-acd8-4105-a305-18599889a9f4"
      },
      "execution_count": null,
      "outputs": [
        {
          "output_type": "stream",
          "name": "stdout",
          "text": [
            "1/1 [==============================] - 2s 2s/step\n",
            "1/1 [==============================] - 0s 209ms/step\n",
            "1/1 [==============================] - 0s 211ms/step\n"
          ]
        }
      ]
    },
    {
      "cell_type": "code",
      "source": [],
      "metadata": {
        "id": "wcLLeydifPYW"
      },
      "execution_count": null,
      "outputs": []
    }
  ]
}