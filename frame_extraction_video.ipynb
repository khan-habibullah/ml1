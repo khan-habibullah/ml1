{
  "nbformat": 4,
  "nbformat_minor": 0,
  "metadata": {
    "colab": {
      "provenance": [],
      "authorship_tag": "ABX9TyMol5kwyv6NKbD8NjkAbJlc",
      "include_colab_link": true
    },
    "kernelspec": {
      "name": "python3",
      "display_name": "Python 3"
    },
    "language_info": {
      "name": "python"
    }
  },
  "cells": [
    {
      "cell_type": "markdown",
      "metadata": {
        "id": "view-in-github",
        "colab_type": "text"
      },
      "source": [
        "<a href=\"https://colab.research.google.com/github/khan-habibullah/ml1/blob/master/frame_extraction_video.ipynb\" target=\"_parent\"><img src=\"https://colab.research.google.com/assets/colab-badge.svg\" alt=\"Open In Colab\"/></a>"
      ]
    },
    {
      "cell_type": "code",
      "execution_count": null,
      "metadata": {
        "id": "H3-L4-vNFQKj"
      },
      "outputs": [],
      "source": [
        "import os\n",
        "import cv2\n",
        "\n",
        "# Define the input directory containing the videos\n",
        "input_dir = '/content/drive/MyDrive/Sign Language Practice'\n",
        "\n",
        "# Define the output directory to save the frames\n",
        "output_dir = '/content/drive/MyDrive/Output'\n",
        "\n",
        "# Create the output directory if it doesn't exist\n",
        "if not os.path.exists(output_dir):\n",
        "    os.makedirs(output_dir)\n",
        "\n",
        "# Loop over all the subdirectories in the input directory\n",
        "for sub_dir_name in os.listdir(input_dir):\n",
        "    sub_dir = os.path.join(input_dir, sub_dir_name)\n",
        "    if os.path.isdir(sub_dir):\n",
        "        # Create a subdirectory with the same name as the subdirectory\n",
        "        output_sub_dir = os.path.join(output_dir, sub_dir_name)\n",
        "        if not os.path.exists(output_sub_dir):\n",
        "            os.makedirs(output_sub_dir)\n",
        "\n",
        "        # Loop over all the video files in the subdirectory\n",
        "        for video_file in os.listdir(sub_dir):\n",
        "            if video_file.endswith('.mp4') or video_file.endswith('.mov') or video_file.endswith('.webm'):\n",
        "                # Open the video file\n",
        "                cap = cv2.VideoCapture(os.path.join(sub_dir, video_file))\n",
        "\n",
        "                # Loop over all the frames in the video\n",
        "                frame_count = 0\n",
        "                while cap.isOpened():\n",
        "                    # Read the next frame from the video\n",
        "                    ret, frame = cap.read()\n",
        "                    if not ret:\n",
        "                        break\n",
        "\n",
        "                    # Save the frame to a file in the subdirectory\n",
        "                    frame_file = os.path.join(output_sub_dir, '{}_frame{:06d}.jpg'.format(os.path.splitext(video_file)[0], frame_count))\n",
        "                    cv2.imwrite(frame_file, frame)\n",
        "\n",
        "                    # Increment the frame counter\n",
        "                    frame_count += 1\n",
        "\n",
        "                # Release the video file\n",
        "                cap.release()\n"
      ]
    }
  ]
}