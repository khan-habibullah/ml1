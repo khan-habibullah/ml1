{
  "nbformat": 4,
  "nbformat_minor": 0,
  "metadata": {
    "colab": {
      "provenance": [],
      "authorship_tag": "ABX9TyPPjE6vGfO97xIfZnBOO58e",
      "include_colab_link": true
    },
    "kernelspec": {
      "name": "python3",
      "display_name": "Python 3"
    },
    "language_info": {
      "name": "python"
    }
  },
  "cells": [
    {
      "cell_type": "markdown",
      "metadata": {
        "id": "view-in-github",
        "colab_type": "text"
      },
      "source": [
        "<a href=\"https://colab.research.google.com/github/khan-habibullah/ml1/blob/master/accuracy_report.ipynb\" target=\"_parent\"><img src=\"https://colab.research.google.com/assets/colab-badge.svg\" alt=\"Open In Colab\"/></a>"
      ]
    },
    {
      "cell_type": "code",
      "execution_count": null,
      "metadata": {
        "id": "tnrH1cVRlNhN"
      },
      "outputs": [],
      "source": [
        "import zipfile\n",
        "\n",
        "import zipfile\n",
        "\n",
        "# Define the path and filename of the zip file\n",
        "zip_file = \"/content/apple_bnana.zip\"\n",
        "\n",
        "# Open the zip file and extract its contents\n",
        "with zipfile.ZipFile(zip_file, 'r') as zip_ref:\n",
        "    zip_ref.extractall(\"/content/unzpi\")\n"
      ]
    },
    {
      "cell_type": "code",
      "source": [],
      "metadata": {
        "id": "3o_kxQxL6pci"
      },
      "execution_count": null,
      "outputs": []
    },
    {
      "cell_type": "code",
      "source": [
        "import os\n",
        "import shutil\n",
        "\n",
        "# Define the paths of the two folders containing the images\n",
        "folder1_path = \"/path/to/folder1/\"\n",
        "folder2_path = \"/path/to/folder2/\"\n",
        "\n",
        "# Define the path of the folder where the mixed images will be stored\n",
        "mixed_folder_path = \"/path/to/mixed_folder/\"\n",
        "\n",
        "# Get the list of images in the two folders\n",
        "folder1_images = os.listdir(folder1_path)\n",
        "folder2_images = os.listdir(folder2_path)\n",
        "\n",
        "# Mix the images from the two folders and copy them to the mixed folder\n",
        "for i, image in enumerate(folder1_images + folder2_images):\n",
        "    if i < len(folder1_images):\n",
        "        src = os.path.join(folder1_path, image)\n",
        "    else:\n",
        "        src = os.path.join(folder2_path, image)\n",
        "    dst = os.path.join(mixed_folder_path, image)\n",
        "    shutil.copy(src, dst)"
      ],
      "metadata": {
        "id": "eUq1J9TZx6lR"
      },
      "execution_count": null,
      "outputs": []
    },
    {
      "cell_type": "code",
      "source": [
        "from sklearn.metrics import classification_report, confusion_matrix\n",
        "import numpy as np\n",
        "import seaborn as sns\n",
        "import matplotlib.pyplot as plt\n",
        "import pandas as pd\n",
        "batch_size=test_generator.batch_size\n",
        "y_pred = loaded_model.predict(test_generator, steps=test_generator.n//batch_size+1)\n",
        "y_pred = np.round(y_pred)\n",
        "\n",
        "# Load the true class labels\n",
        "y_true = test_generator.classes\n",
        "\n",
        "# Compute the confusion matrix\n",
        "cm = confusion_matrix(y_true, y_pred)\n",
        "\n",
        "# Print the confusion matrix\n",
        "print(cm)\n",
        "\n",
        "\n",
        "# Generate the classification report and confusion matrix\n",
        "target_names = ['apple', 'banana']\n",
        "report = classification_report(y_true, y_pred, target_names=target_names)\n",
        "print(report)"
      ],
      "metadata": {
        "id": "tXnx3TBIx7FE"
      },
      "execution_count": null,
      "outputs": []
    }
  ]
}