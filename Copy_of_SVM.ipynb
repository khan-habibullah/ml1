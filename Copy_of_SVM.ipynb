{
  "nbformat": 4,
  "nbformat_minor": 0,
  "metadata": {
    "colab": {
      "provenance": [],
      "authorship_tag": "ABX9TyMdWT7X35WCupVfQNL5b8Yi",
      "include_colab_link": true
    },
    "kernelspec": {
      "name": "python3",
      "display_name": "Python 3"
    },
    "language_info": {
      "name": "python"
    }
  },
  "cells": [
    {
      "cell_type": "markdown",
      "metadata": {
        "id": "view-in-github",
        "colab_type": "text"
      },
      "source": [
        "<a href=\"https://colab.research.google.com/github/khan-habibullah/ml1/blob/master/Copy_of_SVM.ipynb\" target=\"_parent\"><img src=\"https://colab.research.google.com/assets/colab-badge.svg\" alt=\"Open In Colab\"/></a>"
      ]
    },
    {
      "cell_type": "code",
      "execution_count": null,
      "metadata": {
        "id": "flphN-hm67p8"
      },
      "outputs": [],
      "source": [
        "import pandas as pd\n",
        "import numpy as np\n",
        "import matplotlib.pyplot as plt\n",
        "\n",
        "df=pd.read_csv('https://raw.githubusercontent.com/mwaskom/seaborn-data/master/diamonds.csv')"
      ]
    },
    {
      "cell_type": "code",
      "source": [
        "plt.scatter(df.carat,df.price,color='blue')\n",
        "plt.xlabel('Carat')\n",
        "plt.ylabel('Price of diamond')\n",
        "plt.show()"
      ],
      "metadata": {
        "colab": {
          "base_uri": "https://localhost:8080/",
          "height": 279
        },
        "id": "oUhhxGlw76jh",
        "outputId": "7f23a0ef-3235-403d-d02f-41b1225921b0"
      },
      "execution_count": null,
      "outputs": [
        {
          "output_type": "display_data",
          "data": {
            "text/plain": [
              "<Figure size 432x288 with 1 Axes>"
            ],
            "image/png": "[encoded data removed]"
          },
          "metadata": {
            "needs_background": "light"
          }
        }
      ]
    },
    {
      "cell_type": "code",
      "source": [
        "from sklearn import preprocessing\n",
        "encoder=preprocessing.LabelEncoder()\n",
        "for i in df:\n",
        "  if df[i].dtypes=='object':\n",
        "    df[i]=encoder.fit_transform(df[i])\n",
        "  else:\n",
        "    pass"
      ],
      "metadata": {
        "id": "CCx499J48lQw"
      },
      "execution_count": null,
      "outputs": []
    },
    {
      "cell_type": "code",
      "source": [
        "from sklearn.preprocessing import MinMaxScaler as mms\n",
        "scaler=mms()\n",
        "scaled_data=scaler.fit_transform(df)"
      ],
      "metadata": {
        "id": "8FXN9h7V8BlD"
      },
      "execution_count": null,
      "outputs": []
    },
    {
      "cell_type": "code",
      "source": [
        "normalized_data=pd.DataFrame(scaled_data, columns=df.columns)\n",
        "x=normalized_data.drop(['price'], axis=1)\n",
        "y=normalized_data.price\n"
      ],
      "metadata": {
        "id": "H8NvDULI8Zlp"
      },
      "execution_count": null,
      "outputs": []
    },
    {
      "cell_type": "code",
      "source": [
        "from sklearn.model_selection import train_test_split as tts\n",
        "train_x, test_x, train_y, test_y=tts(x, y, test_size=0.2, random_state=101)\n",
        "print(train_x.shape, train_y.shape, test_x.shape, test_y.shape)"
      ],
      "metadata": {
        "colab": {
          "base_uri": "https://localhost:8080/"
        },
        "id": "y_jt2P6dAHrL",
        "outputId": "26e9644e-edda-44fd-e628-6020f28e36c0"
      },
      "execution_count": null,
      "outputs": [
        {
          "output_type": "stream",
          "name": "stdout",
          "text": [
            "(43152, 9) (43152,) (10788, 9) (10788,)\n"
          ]
        }
      ]
    },
    {
      "cell_type": "code",
      "source": [
        "from sklearn.svm import SVR\n",
        "model = SVR()\n",
        "model.fit(train_x, train_y)\n",
        "y_pred=model.predict(test_x)\n",
        "from sklearn.metrics import mean_squared_error as mse\n",
        "error= np.sqrt(mse(y_pred, test_y))\n",
        "print(error)"
      ],
      "metadata": {
        "colab": {
          "base_uri": "https://localhost:8080/"
        },
        "id": "qJkpEhInARd5",
        "outputId": "7be4a86d-e742-4828-cd97-2f458b0399c9"
      },
      "execution_count": null,
      "outputs": [
        {
          "output_type": "stream",
          "name": "stdout",
          "text": [
            "0.05758166654828673\n"
          ]
        }
      ]
    }
  ]
}